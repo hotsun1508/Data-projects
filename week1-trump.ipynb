{
 "cells": [
  {
   "cell_type": "markdown",
   "id": "84970c85-8a5c-4b0b-adc1-3e9b4e4c16e7",
   "metadata": {},
   "source": [
    "# <center>[미니프로젝트] 트럼프 대통령 트윗 분석</center>  "
   ]
  },
  {
   "cell_type": "markdown",
   "id": "cec300c8-98c8-43ad-beb2-b3d7c0b14c29",
   "metadata": {},
   "source": [
    "# 1. 분석 준비"
   ]
  },
  {
   "cell_type": "markdown",
   "id": "70524ec5-dbe5-4a2f-871f-9f540e0ded2f",
   "metadata": {},
   "source": [
    "## 1.1 라이브러리 불러오기"
   ]
  },
  {
   "cell_type": "code",
   "execution_count": 34,
   "id": "802074b7-5dbb-4959-b871-642b34ffec06",
   "metadata": {},
   "outputs": [],
   "source": [
    "# 분석 라이브러리 \n",
    "import pandas as pd\n",
    "import numpy as np\n",
    "\n",
    "import matplotlib.pyplot as plt\n",
    "import seaborn as sns\n",
    "\n",
    "# 경고 문구 미표시\n",
    "import warnings\n",
    "warnings.filterwarnings(action='ignore')"
   ]
  },
  {
   "cell_type": "markdown",
   "id": "37f00d22-cc3c-44c0-998d-57aafd41ada2",
   "metadata": {},
   "source": [
    "## 1.2 데이터 불러오기 "
   ]
  },
  {
   "cell_type": "markdown",
   "id": "e872073b-4866-4071-9a02-5d6778accefd",
   "metadata": {},
   "source": [
    "* 캐글(www.kaggle.com)은 인공지능과 데이터 분석에 관심이 있는 전세계 분석가들이 모여서 활동하는 대표적인 커뮤니티입니다. \n",
    "* 캐글에 등록되어 있는 공개 데이터셋을 활용하여, 트럼프 대통령의 트윗 내용을 분석합니다.  \n",
    "\n",
    "출처: https://www.kaggle.com/datasets/austinreese/trump-tweets"
   ]
  },
  {
   "cell_type": "code",
   "execution_count": 35,
   "id": "33b2fc70-a4c7-4538-b4a2-8d70f580149f",
   "metadata": {},
   "outputs": [
    {
     "data": {
      "text/html": [
       "<div>\n",
       "<style scoped>\n",
       "    .dataframe tbody tr th:only-of-type {\n",
       "        vertical-align: middle;\n",
       "    }\n",
       "\n",
       "    .dataframe tbody tr th {\n",
       "        vertical-align: top;\n",
       "    }\n",
       "\n",
       "    .dataframe thead th {\n",
       "        text-align: right;\n",
       "    }\n",
       "</style>\n",
       "<table border=\"1\" class=\"dataframe\">\n",
       "  <thead>\n",
       "    <tr style=\"text-align: right;\">\n",
       "      <th></th>\n",
       "      <th>id</th>\n",
       "      <th>link</th>\n",
       "      <th>content</th>\n",
       "      <th>date</th>\n",
       "      <th>retweets</th>\n",
       "      <th>favorites</th>\n",
       "      <th>mentions</th>\n",
       "      <th>hashtags</th>\n",
       "      <th>geo</th>\n",
       "    </tr>\n",
       "  </thead>\n",
       "  <tbody>\n",
       "    <tr>\n",
       "      <th>0</th>\n",
       "      <td>1698308935</td>\n",
       "      <td>https://twitter.com/realDonaldTrump/status/169...</td>\n",
       "      <td>Be sure to tune in and watch Donald Trump on L...</td>\n",
       "      <td>2009-05-04 20:54:25</td>\n",
       "      <td>500</td>\n",
       "      <td>868</td>\n",
       "      <td>NaN</td>\n",
       "      <td>NaN</td>\n",
       "      <td>NaN</td>\n",
       "    </tr>\n",
       "    <tr>\n",
       "      <th>1</th>\n",
       "      <td>1701461182</td>\n",
       "      <td>https://twitter.com/realDonaldTrump/status/170...</td>\n",
       "      <td>Donald Trump will be appearing on The View tom...</td>\n",
       "      <td>2009-05-05 03:00:10</td>\n",
       "      <td>33</td>\n",
       "      <td>273</td>\n",
       "      <td>NaN</td>\n",
       "      <td>NaN</td>\n",
       "      <td>NaN</td>\n",
       "    </tr>\n",
       "  </tbody>\n",
       "</table>\n",
       "</div>"
      ],
      "text/plain": [
       "           id                                               link  \\\n",
       "0  1698308935  https://twitter.com/realDonaldTrump/status/169...   \n",
       "1  1701461182  https://twitter.com/realDonaldTrump/status/170...   \n",
       "\n",
       "                                             content                 date  \\\n",
       "0  Be sure to tune in and watch Donald Trump on L...  2009-05-04 20:54:25   \n",
       "1  Donald Trump will be appearing on The View tom...  2009-05-05 03:00:10   \n",
       "\n",
       "   retweets  favorites mentions hashtags  geo  \n",
       "0       500        868      NaN      NaN  NaN  \n",
       "1        33        273      NaN      NaN  NaN  "
      ]
     },
     "execution_count": 35,
     "metadata": {},
     "output_type": "execute_result"
    }
   ],
   "source": [
    "# 캐글에 가입하고, [Data] 탭에서 데이터 내용과 파일 목록을 확인합니다.  \n",
    "# [Download] 버튼을 클릭하여 데이터를 다운로드합니다.\n",
    "# 다운로드한 zip 압축파일을 해제하고, CSV파일(trumptweets.csv)을 data 폴더로 이동합니다. \n",
    "\n",
    "# CSV 파일을 판다스 read_csv 함수로 읽어와서, 데이터프레임 형식으로 변환합니다. \n",
    "data = pd.read_csv('./data/trumptweets.csv')\n",
    "\n",
    "# 데이터프레임의 첫 2행을 출력합니다. \n",
    "data.head(2)"
   ]
  },
  {
   "cell_type": "code",
   "execution_count": 36,
   "id": "ce3430b6-2bf1-4d7e-88a1-86ebf8701e11",
   "metadata": {},
   "outputs": [
    {
     "name": "stdout",
     "output_type": "stream",
     "text": [
      "<class 'pandas.core.frame.DataFrame'>\n",
      "RangeIndex: 41122 entries, 0 to 41121\n",
      "Data columns (total 9 columns):\n",
      " #   Column     Non-Null Count  Dtype  \n",
      "---  ------     --------------  -----  \n",
      " 0   id         41122 non-null  int64  \n",
      " 1   link       41122 non-null  object \n",
      " 2   content    41122 non-null  object \n",
      " 3   date       41122 non-null  object \n",
      " 4   retweets   41122 non-null  int64  \n",
      " 5   favorites  41122 non-null  int64  \n",
      " 6   mentions   22467 non-null  object \n",
      " 7   hashtags   5810 non-null   object \n",
      " 8   geo        0 non-null      float64\n",
      "dtypes: float64(1), int64(3), object(5)\n",
      "memory usage: 2.8+ MB\n"
     ]
    }
   ],
   "source": [
    "# 기본 정보\n",
    "data.info()"
   ]
  },
  {
   "cell_type": "code",
   "execution_count": 37,
   "id": "946234de-fd3e-410a-b87f-cee60d22f88f",
   "metadata": {},
   "outputs": [
    {
     "data": {
      "text/plain": [
       "id               0\n",
       "link             0\n",
       "content          0\n",
       "date             0\n",
       "retweets         0\n",
       "favorites        0\n",
       "mentions     18655\n",
       "hashtags     35312\n",
       "geo          41122\n",
       "dtype: int64"
      ]
     },
     "execution_count": 37,
     "metadata": {},
     "output_type": "execute_result"
    }
   ],
   "source": [
    "# 결측값 확인\n",
    "data.isnull().sum()"
   ]
  },
  {
   "cell_type": "markdown",
   "id": "67db0d96-0fc6-46ac-bac8-53e4da5653a9",
   "metadata": {},
   "source": [
    "3개의 컬럼('mentions', 'hashtags', 'geo')에 결측값이 상당한 비율로 포함되어 있습니다. "
   ]
  },
  {
   "cell_type": "code",
   "execution_count": 38,
   "id": "33675540-136b-421d-8a8b-d9e094503c0c",
   "metadata": {},
   "outputs": [
    {
     "data": {
      "text/plain": [
       "0"
      ]
     },
     "execution_count": 38,
     "metadata": {},
     "output_type": "execute_result"
    }
   ],
   "source": [
    "# 중복데이터 확인\n",
    "data.duplicated().sum()"
   ]
  },
  {
   "cell_type": "markdown",
   "id": "c07e3d68-7576-40ab-8d43-38ef467ac121",
   "metadata": {},
   "source": [
    "같은 행이 중복으로 존재하지 않습니다. "
   ]
  },
  {
   "cell_type": "markdown",
   "id": "fd3818b0-e324-4d7a-bb25-cdfb2e916fd8",
   "metadata": {},
   "source": [
    "# 2. 프로젝트 수행하기"
   ]
  },
  {
   "cell_type": "markdown",
   "id": "49433b96-a344-493f-bcb6-00d11602023b",
   "metadata": {},
   "source": [
    "## 2.1 데이터 정제"
   ]
  },
  {
   "cell_type": "markdown",
   "id": "08e06c66-4c2f-415b-bb2a-c661acf9fed3",
   "metadata": {},
   "source": [
    "### 2.1.1 결측값이 있는 변수를 찾아서 data 데이터프레임에서 삭제합니다. "
   ]
  },
  {
   "cell_type": "code",
   "execution_count": 39,
   "id": "5b851afa-4b4c-4789-8445-7f81a9d3644d",
   "metadata": {},
   "outputs": [
    {
     "data": {
      "text/plain": [
       "Index(['id', 'link', 'content', 'date', 'retweets', 'favorites', 'mentions',\n",
       "       'hashtags', 'geo'],\n",
       "      dtype='object')"
      ]
     },
     "execution_count": 39,
     "metadata": {},
     "output_type": "execute_result"
    }
   ],
   "source": [
    "# columns 속성으로, 변수(컬럼)들의 이름을 확인할 수 있습니다. \n",
    "data.columns"
   ]
  },
  {
   "cell_type": "code",
   "execution_count": 40,
   "id": "ed7cafe1-44b6-48e8-947c-801624c85a72",
   "metadata": {},
   "outputs": [
    {
     "name": "stdout",
     "output_type": "stream",
     "text": [
      "Index(['id', 'link', 'content', 'date', 'retweets', 'favorites'], dtype='object')\n"
     ]
    }
   ],
   "source": [
    "# dropna 함수를 이용하여 결측이 1개 이상이면(how='any'), 해당 변수(컬럼)를 제거합니다.\n",
    "data = data.dropna(how='any', axis=1)\n",
    "\n",
    "# 잘 제거되었는지 확인합니다.\n",
    "print(data.columns)"
   ]
  },
  {
   "cell_type": "markdown",
   "id": "c78d4516-45f3-4dc6-ac4c-048494f7241b",
   "metadata": {},
   "source": [
    "결측값이 있는 3개의 컬럼('mentions', 'hashtags', 'geo')이 데이터프레임에서 제거된 것을 알 수 있습니다."
   ]
  },
  {
   "cell_type": "markdown",
   "id": "7ad101af-7baa-4882-826f-d065be3c10e7",
   "metadata": {},
   "source": [
    "### 2.1.2 분석에 적합한 형태로 데이터프레임을 정리합니다. \n",
    "1) 분석에 사용하지 않을 id, link 컬럼을 제외합니다. \n",
    "2) 트윗이 게시된 시각을 나타내는 date 컬럼을 첫 번째 순서로 이동합니다. (date, content, retweets, favorites 순서)\n",
    "3) 문자열 함수를 이용하여, date 컬럼에서 연도, 월을 추출하여 각각 새로운 컬럼으로 추가합니다."
   ]
  },
  {
   "cell_type": "markdown",
   "id": "3432a778-a7f4-4cf6-ad6d-5e36d2386c9e",
   "metadata": {},
   "source": [
    "#### 1) 분석에 사용하지 않을 id, link 컬럼을 제외합니다. "
   ]
  },
  {
   "cell_type": "code",
   "execution_count": 41,
   "id": "6ae26a7b-13d5-4db1-9070-fd87bbf88d3c",
   "metadata": {},
   "outputs": [
    {
     "data": {
      "text/html": [
       "<div>\n",
       "<style scoped>\n",
       "    .dataframe tbody tr th:only-of-type {\n",
       "        vertical-align: middle;\n",
       "    }\n",
       "\n",
       "    .dataframe tbody tr th {\n",
       "        vertical-align: top;\n",
       "    }\n",
       "\n",
       "    .dataframe thead th {\n",
       "        text-align: right;\n",
       "    }\n",
       "</style>\n",
       "<table border=\"1\" class=\"dataframe\">\n",
       "  <thead>\n",
       "    <tr style=\"text-align: right;\">\n",
       "      <th></th>\n",
       "      <th>content</th>\n",
       "      <th>date</th>\n",
       "      <th>retweets</th>\n",
       "      <th>favorites</th>\n",
       "    </tr>\n",
       "  </thead>\n",
       "  <tbody>\n",
       "    <tr>\n",
       "      <th>0</th>\n",
       "      <td>Be sure to tune in and watch Donald Trump on L...</td>\n",
       "      <td>2009-05-04 20:54:25</td>\n",
       "      <td>500</td>\n",
       "      <td>868</td>\n",
       "    </tr>\n",
       "    <tr>\n",
       "      <th>1</th>\n",
       "      <td>Donald Trump will be appearing on The View tom...</td>\n",
       "      <td>2009-05-05 03:00:10</td>\n",
       "      <td>33</td>\n",
       "      <td>273</td>\n",
       "    </tr>\n",
       "    <tr>\n",
       "      <th>2</th>\n",
       "      <td>Donald Trump reads Top Ten Financial Tips on L...</td>\n",
       "      <td>2009-05-08 15:38:08</td>\n",
       "      <td>12</td>\n",
       "      <td>18</td>\n",
       "    </tr>\n",
       "    <tr>\n",
       "      <th>3</th>\n",
       "      <td>New Blog Post: Celebrity Apprentice Finale and...</td>\n",
       "      <td>2009-05-08 22:40:15</td>\n",
       "      <td>11</td>\n",
       "      <td>24</td>\n",
       "    </tr>\n",
       "    <tr>\n",
       "      <th>4</th>\n",
       "      <td>\"My persona will never be that of a wallflower...</td>\n",
       "      <td>2009-05-12 16:07:28</td>\n",
       "      <td>1399</td>\n",
       "      <td>1965</td>\n",
       "    </tr>\n",
       "  </tbody>\n",
       "</table>\n",
       "</div>"
      ],
      "text/plain": [
       "                                             content                 date  \\\n",
       "0  Be sure to tune in and watch Donald Trump on L...  2009-05-04 20:54:25   \n",
       "1  Donald Trump will be appearing on The View tom...  2009-05-05 03:00:10   \n",
       "2  Donald Trump reads Top Ten Financial Tips on L...  2009-05-08 15:38:08   \n",
       "3  New Blog Post: Celebrity Apprentice Finale and...  2009-05-08 22:40:15   \n",
       "4  \"My persona will never be that of a wallflower...  2009-05-12 16:07:28   \n",
       "\n",
       "   retweets  favorites  \n",
       "0       500        868  \n",
       "1        33        273  \n",
       "2        12         18  \n",
       "3        11         24  \n",
       "4      1399       1965  "
      ]
     },
     "execution_count": 41,
     "metadata": {},
     "output_type": "execute_result"
    }
   ],
   "source": [
    "# loc 인덱서를 사용하여 'content' 컬럼부터 슬라이싱 기법으로 선택합니다.\n",
    "df_cleaned = data.loc[:, 'content':]\n",
    "\n",
    "# 첫 5행을 출력합니다. \n",
    "df_cleaned.head()"
   ]
  },
  {
   "cell_type": "markdown",
   "id": "c4ee28d9-f6a7-4da1-8077-727ba48f9962",
   "metadata": {},
   "source": [
    "#### 2) 트윗이 게시된 시각을 나타내는 date 컬럼을 첫 번째 순서로 이동합니다. (date, content, retweets, favorites 순서)"
   ]
  },
  {
   "cell_type": "code",
   "execution_count": 42,
   "id": "aa3c6188-4c67-4303-bd28-8cf4eacc4a4e",
   "metadata": {},
   "outputs": [
    {
     "data": {
      "text/html": [
       "<div>\n",
       "<style scoped>\n",
       "    .dataframe tbody tr th:only-of-type {\n",
       "        vertical-align: middle;\n",
       "    }\n",
       "\n",
       "    .dataframe tbody tr th {\n",
       "        vertical-align: top;\n",
       "    }\n",
       "\n",
       "    .dataframe thead th {\n",
       "        text-align: right;\n",
       "    }\n",
       "</style>\n",
       "<table border=\"1\" class=\"dataframe\">\n",
       "  <thead>\n",
       "    <tr style=\"text-align: right;\">\n",
       "      <th></th>\n",
       "      <th>date</th>\n",
       "      <th>content</th>\n",
       "      <th>retweets</th>\n",
       "      <th>favorites</th>\n",
       "    </tr>\n",
       "  </thead>\n",
       "  <tbody>\n",
       "    <tr>\n",
       "      <th>0</th>\n",
       "      <td>2009-05-04 20:54:25</td>\n",
       "      <td>Be sure to tune in and watch Donald Trump on L...</td>\n",
       "      <td>500</td>\n",
       "      <td>868</td>\n",
       "    </tr>\n",
       "    <tr>\n",
       "      <th>1</th>\n",
       "      <td>2009-05-05 03:00:10</td>\n",
       "      <td>Donald Trump will be appearing on The View tom...</td>\n",
       "      <td>33</td>\n",
       "      <td>273</td>\n",
       "    </tr>\n",
       "    <tr>\n",
       "      <th>2</th>\n",
       "      <td>2009-05-08 15:38:08</td>\n",
       "      <td>Donald Trump reads Top Ten Financial Tips on L...</td>\n",
       "      <td>12</td>\n",
       "      <td>18</td>\n",
       "    </tr>\n",
       "    <tr>\n",
       "      <th>3</th>\n",
       "      <td>2009-05-08 22:40:15</td>\n",
       "      <td>New Blog Post: Celebrity Apprentice Finale and...</td>\n",
       "      <td>11</td>\n",
       "      <td>24</td>\n",
       "    </tr>\n",
       "    <tr>\n",
       "      <th>4</th>\n",
       "      <td>2009-05-12 16:07:28</td>\n",
       "      <td>\"My persona will never be that of a wallflower...</td>\n",
       "      <td>1399</td>\n",
       "      <td>1965</td>\n",
       "    </tr>\n",
       "  </tbody>\n",
       "</table>\n",
       "</div>"
      ],
      "text/plain": [
       "                  date                                            content  \\\n",
       "0  2009-05-04 20:54:25  Be sure to tune in and watch Donald Trump on L...   \n",
       "1  2009-05-05 03:00:10  Donald Trump will be appearing on The View tom...   \n",
       "2  2009-05-08 15:38:08  Donald Trump reads Top Ten Financial Tips on L...   \n",
       "3  2009-05-08 22:40:15  New Blog Post: Celebrity Apprentice Finale and...   \n",
       "4  2009-05-12 16:07:28  \"My persona will never be that of a wallflower...   \n",
       "\n",
       "   retweets  favorites  \n",
       "0       500        868  \n",
       "1        33        273  \n",
       "2        12         18  \n",
       "3        11         24  \n",
       "4      1399       1965  "
      ]
     },
     "execution_count": 42,
     "metadata": {},
     "output_type": "execute_result"
    }
   ],
   "source": [
    "# 변경을 원하는 순서대로 컬럼의 배열을 정리합니다.\n",
    "new_col_order = ['date', 'content', 'retweets', 'favorites']\n",
    "\n",
    "# 새로운 컬럼의 배열을 이용하여 데이터프레임을 새롭게 구성합니다.\n",
    "df_cleaned = df_cleaned[new_col_order]\n",
    "\n",
    "# 첫 5행을 출력합니다. \n",
    "df_cleaned.head()"
   ]
  },
  {
   "cell_type": "markdown",
   "id": "2f82eb62-a772-4b92-a859-42e45a342aa2",
   "metadata": {},
   "source": [
    "#### 3) 문자열 함수를 이용하여, date 컬럼에서 연도, 월을 추출하여 각각 새로운 컬럼으로 추가합니다."
   ]
  },
  {
   "cell_type": "code",
   "execution_count": 43,
   "id": "b65728ee-7fe2-45d9-b4c9-fd2aa91f63b2",
   "metadata": {},
   "outputs": [
    {
     "data": {
      "text/plain": [
       "'2009-05-04 20:54:25'"
      ]
     },
     "execution_count": 43,
     "metadata": {},
     "output_type": "execute_result"
    }
   ],
   "source": [
    "# date 컬럼의 첫 번째 데이터를 dt_sample 변수에 저장합니다. \n",
    "# 첫 번째 행의 데이터를 샘플로 추출하여 먼저 작업하고, 동일한 방식으로 다른 행의 데이터로 확장하여 적용합니다. \n",
    "dt_sample = df_cleaned['date'][0]\n",
    "dt_sample"
   ]
  },
  {
   "cell_type": "code",
   "execution_count": 44,
   "id": "3b37a959-657d-43a3-8ec2-2870e56ac2b9",
   "metadata": {},
   "outputs": [
    {
     "data": {
      "text/plain": [
       "['2009-05-04', '20:54:25']"
      ]
     },
     "execution_count": 44,
     "metadata": {},
     "output_type": "execute_result"
    }
   ],
   "source": [
    "# 공백(띄어쓰기 한칸)을 기준으로 문자열을 분할하면, 날짜와 시간으로 구분할 수 있습니다.\n",
    "dt_sample.split(' ')"
   ]
  },
  {
   "cell_type": "code",
   "execution_count": 45,
   "id": "215d1468-a06e-4174-9e1e-9cc103e9cd1b",
   "metadata": {},
   "outputs": [
    {
     "name": "stdout",
     "output_type": "stream",
     "text": [
      "2009-05-04\n",
      "['2009', '05', '04']\n"
     ]
    }
   ],
   "source": [
    "# 날짜 부분을 인덱싱하여 첫 번째 원소를 선택하고, '-' 기호를 기준으로 다시 한번 분할합니다. \n",
    "_date = dt_sample.split(' ')[0]\n",
    "print(_date)\n",
    "\n",
    "_date_items = _date.split('-')\n",
    "print(_date_items)"
   ]
  },
  {
   "cell_type": "code",
   "execution_count": 46,
   "id": "85f81e0e-8af5-427d-8e6a-c44d2c33195e",
   "metadata": {},
   "outputs": [
    {
     "name": "stdout",
     "output_type": "stream",
     "text": [
      "첫 번째 트윗은 2009년 05월에 게시되었습니다.\n"
     ]
    }
   ],
   "source": [
    "# _date_items 리스트에서 첫번째 원소가 연도를 나타내고, 두번째 원소가 월을 나타냅니다. (2009년 5월)\n",
    "_year = _date_items[0]\n",
    "_month = _date_items[1]\n",
    "\n",
    "print(f\"첫 번째 트윗은 {_year}년 {_month}월에 게시되었습니다.\")"
   ]
  },
  {
   "cell_type": "code",
   "execution_count": 47,
   "id": "bb0065c9-2b80-456d-8e4c-0d20d3f36b9c",
   "metadata": {},
   "outputs": [
    {
     "name": "stdout",
     "output_type": "stream",
     "text": [
      "41122 41122\n"
     ]
    }
   ],
   "source": [
    "# 다른 행의 데이터에 대해서도 for 반복문을 적용하여 연도를 year 리스트에 추출하고, 월을 month 리스트에 추출하여 정리합니다. \n",
    "year = []\n",
    "month = []\n",
    "\n",
    "for dt_sample in df_cleaned['date']:\n",
    "    \n",
    "    # 위에서 샘플 데이터를 활용하여 처리한 코드를 활용\n",
    "    _date = dt_sample.split(' ')[0]\n",
    "    _date_items = _date.split('-')\n",
    "    _year = _date_items[0]\n",
    "    _month = _date_items[1]\n",
    "    \n",
    "    # 추출한 데이터를 각각 year, month 리스트에 추가(append)\n",
    "    year.append(_year)\n",
    "    month.append(_month)\n",
    "\n",
    "# 추출된 원소의 갯수를 확인합니다.     \n",
    "print(len(year), len(month))"
   ]
  },
  {
   "cell_type": "code",
   "execution_count": 48,
   "id": "24ed8e46-1773-41a1-a896-1377f4758447",
   "metadata": {},
   "outputs": [
    {
     "data": {
      "text/html": [
       "<div>\n",
       "<style scoped>\n",
       "    .dataframe tbody tr th:only-of-type {\n",
       "        vertical-align: middle;\n",
       "    }\n",
       "\n",
       "    .dataframe tbody tr th {\n",
       "        vertical-align: top;\n",
       "    }\n",
       "\n",
       "    .dataframe thead th {\n",
       "        text-align: right;\n",
       "    }\n",
       "</style>\n",
       "<table border=\"1\" class=\"dataframe\">\n",
       "  <thead>\n",
       "    <tr style=\"text-align: right;\">\n",
       "      <th></th>\n",
       "      <th>date</th>\n",
       "      <th>content</th>\n",
       "      <th>retweets</th>\n",
       "      <th>favorites</th>\n",
       "      <th>year</th>\n",
       "      <th>month</th>\n",
       "    </tr>\n",
       "  </thead>\n",
       "  <tbody>\n",
       "    <tr>\n",
       "      <th>0</th>\n",
       "      <td>2009-05-04 20:54:25</td>\n",
       "      <td>Be sure to tune in and watch Donald Trump on L...</td>\n",
       "      <td>500</td>\n",
       "      <td>868</td>\n",
       "      <td>2009</td>\n",
       "      <td>05</td>\n",
       "    </tr>\n",
       "    <tr>\n",
       "      <th>1</th>\n",
       "      <td>2009-05-05 03:00:10</td>\n",
       "      <td>Donald Trump will be appearing on The View tom...</td>\n",
       "      <td>33</td>\n",
       "      <td>273</td>\n",
       "      <td>2009</td>\n",
       "      <td>05</td>\n",
       "    </tr>\n",
       "    <tr>\n",
       "      <th>2</th>\n",
       "      <td>2009-05-08 15:38:08</td>\n",
       "      <td>Donald Trump reads Top Ten Financial Tips on L...</td>\n",
       "      <td>12</td>\n",
       "      <td>18</td>\n",
       "      <td>2009</td>\n",
       "      <td>05</td>\n",
       "    </tr>\n",
       "    <tr>\n",
       "      <th>3</th>\n",
       "      <td>2009-05-08 22:40:15</td>\n",
       "      <td>New Blog Post: Celebrity Apprentice Finale and...</td>\n",
       "      <td>11</td>\n",
       "      <td>24</td>\n",
       "      <td>2009</td>\n",
       "      <td>05</td>\n",
       "    </tr>\n",
       "    <tr>\n",
       "      <th>4</th>\n",
       "      <td>2009-05-12 16:07:28</td>\n",
       "      <td>\"My persona will never be that of a wallflower...</td>\n",
       "      <td>1399</td>\n",
       "      <td>1965</td>\n",
       "      <td>2009</td>\n",
       "      <td>05</td>\n",
       "    </tr>\n",
       "  </tbody>\n",
       "</table>\n",
       "</div>"
      ],
      "text/plain": [
       "                  date                                            content  \\\n",
       "0  2009-05-04 20:54:25  Be sure to tune in and watch Donald Trump on L...   \n",
       "1  2009-05-05 03:00:10  Donald Trump will be appearing on The View tom...   \n",
       "2  2009-05-08 15:38:08  Donald Trump reads Top Ten Financial Tips on L...   \n",
       "3  2009-05-08 22:40:15  New Blog Post: Celebrity Apprentice Finale and...   \n",
       "4  2009-05-12 16:07:28  \"My persona will never be that of a wallflower...   \n",
       "\n",
       "   retweets  favorites  year month  \n",
       "0       500        868  2009    05  \n",
       "1        33        273  2009    05  \n",
       "2        12         18  2009    05  \n",
       "3        11         24  2009    05  \n",
       "4      1399       1965  2009    05  "
      ]
     },
     "execution_count": 48,
     "metadata": {},
     "output_type": "execute_result"
    }
   ],
   "source": [
    "# 추출된 year, month 리스트의 데이터를 각각 새로운 컬럼으로 추가합니다. \n",
    "df_cleaned['year'] = year\n",
    "df_cleaned['month'] = month\n",
    "\n",
    "# 첫 5행을 출력합니다. \n",
    "df_cleaned.head()"
   ]
  },
  {
   "cell_type": "markdown",
   "id": "598d3907-a50c-4ba3-b700-a66091be3683",
   "metadata": {},
   "source": [
    "## 2.2 연도별 트윗량 분석  \n",
    "1) year 변수를 구성하는 데이터의 도수(frequency)를 확인합니다.\n",
    "2) 연도별 빈도수 데이터를 판다스 시리즈 객체의 인덱스(연도) 순으로 오름차순 정렬합니다.\n",
    "3) 판다스 plot 함수를 이용하여 연도별 트윗량을 그래프로 시각화합니다. "
   ]
  },
  {
   "cell_type": "markdown",
   "id": "800a1c8f-6970-446b-91a7-ef1ab511b74b",
   "metadata": {},
   "source": [
    "### 1) year 변수를 구성하는 데이터의 도수(frequency)를 확인합니다."
   ]
  },
  {
   "cell_type": "code",
   "execution_count": 49,
   "id": "4f6686de-0fb2-4f33-9d3d-865ce66ecc6e",
   "metadata": {},
   "outputs": [
    {
     "data": {
      "text/plain": [
       "2013    8207\n",
       "2015    7719\n",
       "2014    5987\n",
       "2019    4588\n",
       "2012    4190\n",
       "2016    3951\n",
       "2018    2998\n",
       "2017    2232\n",
       "2011     870\n",
       "2020     181\n",
       "2010     143\n",
       "2009      56\n",
       "Name: year, dtype: int64"
      ]
     },
     "execution_count": 49,
     "metadata": {},
     "output_type": "execute_result"
    }
   ],
   "source": [
    "# value_counts 함수\n",
    "df_cleaned['year'].value_counts()"
   ]
  },
  {
   "cell_type": "markdown",
   "id": "448bf9a1-93a7-4382-815a-a355353ca18e",
   "metadata": {},
   "source": [
    "2013년에 트윗량이 가장 많고, 트윗을 처음 시작한 2009년의 트윗량이 가장 적은 편입니다."
   ]
  },
  {
   "cell_type": "markdown",
   "id": "0642bfaa-8fa8-42cb-aed6-ecb12fba58fd",
   "metadata": {},
   "source": [
    "### 2) 연도별 빈도수 데이터를 판다스 시리즈 객체의 인덱스(연도) 순으로 오름차순 정렬합니다."
   ]
  },
  {
   "cell_type": "code",
   "execution_count": 50,
   "id": "53e5d14f-98bc-4a34-91c1-430ee2f7249c",
   "metadata": {},
   "outputs": [
    {
     "data": {
      "text/plain": [
       "2009      56\n",
       "2010     143\n",
       "2011     870\n",
       "2012    4190\n",
       "2013    8207\n",
       "2014    5987\n",
       "2015    7719\n",
       "2016    3951\n",
       "2017    2232\n",
       "2018    2998\n",
       "2019    4588\n",
       "2020     181\n",
       "Name: year, dtype: int64"
      ]
     },
     "execution_count": 50,
     "metadata": {},
     "output_type": "execute_result"
    }
   ],
   "source": [
    "# sort_index 함수를 사용하고, 오름차순 정렬합니다. (ascending=True)\n",
    "df_cleaned['year'].value_counts().sort_index()"
   ]
  },
  {
   "cell_type": "markdown",
   "id": "16e77b64-cdfd-4ede-bbf0-13c731ca2b72",
   "metadata": {},
   "source": [
    "### 3) 판다스 plot 함수를 이용하여 연도별 트윗량을 그래프로 시각화합니다. "
   ]
  },
  {
   "cell_type": "code",
   "execution_count": 51,
   "id": "7967c33b-967e-4063-a084-4852458bce32",
   "metadata": {},
   "outputs": [
    {
     "data": {
      "text/plain": [
       "<AxesSubplot: >"
      ]
     },
     "execution_count": 51,
     "metadata": {},
     "output_type": "execute_result"
    },
    {
     "data": {
      "image/png": "[encoded data removed]",
      "text/plain": [
       "<Figure size 640x480 with 1 Axes>"
      ]
     },
     "metadata": {},
     "output_type": "display_data"
    }
   ],
   "source": [
    "# plot 함수는 기본값으로 선 그래프를 출력합니다. (kind='line')\n",
    "df_cleaned['year'].value_counts().sort_index().plot()"
   ]
  },
  {
   "cell_type": "code",
   "execution_count": 52,
   "id": "a0f57d9d-dbfc-4dd3-9b57-399dd6a6ea52",
   "metadata": {},
   "outputs": [
    {
     "data": {
      "text/plain": [
       "<AxesSubplot: >"
      ]
     },
     "execution_count": 52,
     "metadata": {},
     "output_type": "execute_result"
    },
    {
     "data": {
      "image/png": "[encoded data removed]",
      "text/plain": [
       "<Figure size 640x480 with 1 Axes>"
      ]
     },
     "metadata": {},
     "output_type": "display_data"
    }
   ],
   "source": [
    "# plot 함수의 옵션을 적용하여 막대 그래프를 출력합니다. (kind='bar')\n",
    "df_cleaned['year'].value_counts().sort_index().plot(kind='bar')"
   ]
  },
  {
   "cell_type": "code",
   "execution_count": 53,
   "id": "e65ee596-4109-4860-9c74-51579e5e60be",
   "metadata": {},
   "outputs": [
    {
     "data": {
      "text/plain": [
       "<AxesSubplot: ylabel='year'>"
      ]
     },
     "execution_count": 53,
     "metadata": {},
     "output_type": "execute_result"
    },
    {
     "data": {
      "image/png": "[encoded data removed]",
      "text/plain": [
       "<Figure size 640x480 with 1 Axes>"
      ]
     },
     "metadata": {},
     "output_type": "display_data"
    }
   ],
   "source": [
    "# plot 함수의 옵션을 적용하여 원 그래프(Pie Chart)를 출력합니다. (kind='pie')\n",
    "df_cleaned['year'].value_counts().sort_index().plot(kind='pie')"
   ]
  },
  {
   "cell_type": "markdown",
   "id": "6dfa6973-7e06-4d4e-9ce0-1043e0c38576",
   "metadata": {},
   "source": [
    "## 2.3 트윗 반응 분석\n",
    "1) Retweet 갯수가 많은 순서대로 5개의 트윗을 추출합니다.\n",
    "2) 좋아요(favorites) 갯수가 많은 순서대로 상위 1%안에 해당하는 트윗을 모두 추출합니다."
   ]
  },
  {
   "cell_type": "markdown",
   "id": "1e5b0fce-dd0d-4896-8ac0-a52d62f830cf",
   "metadata": {},
   "source": [
    "### 1) Retweet 갯수가 많은 순서대로 5개의 트윗을 추출합니다."
   ]
  },
  {
   "cell_type": "code",
   "execution_count": 54,
   "id": "eed32ce2-0c6c-4ecc-8359-9b29ed85b97d",
   "metadata": {},
   "outputs": [
    {
     "data": {
      "text/html": [
       "<div>\n",
       "<style scoped>\n",
       "    .dataframe tbody tr th:only-of-type {\n",
       "        vertical-align: middle;\n",
       "    }\n",
       "\n",
       "    .dataframe tbody tr th {\n",
       "        vertical-align: top;\n",
       "    }\n",
       "\n",
       "    .dataframe thead th {\n",
       "        text-align: right;\n",
       "    }\n",
       "</style>\n",
       "<table border=\"1\" class=\"dataframe\">\n",
       "  <thead>\n",
       "    <tr style=\"text-align: right;\">\n",
       "      <th></th>\n",
       "      <th>date</th>\n",
       "      <th>content</th>\n",
       "      <th>retweets</th>\n",
       "      <th>favorites</th>\n",
       "      <th>year</th>\n",
       "      <th>month</th>\n",
       "    </tr>\n",
       "  </thead>\n",
       "  <tbody>\n",
       "    <tr>\n",
       "      <th>32059</th>\n",
       "      <td>2017-07-02 15:21:42</td>\n",
       "      <td># FraudNewsCNN # FNNpic.twitter.com/WYUnHjjUjg</td>\n",
       "      <td>309892</td>\n",
       "      <td>528265</td>\n",
       "      <td>2017</td>\n",
       "      <td>07</td>\n",
       "    </tr>\n",
       "    <tr>\n",
       "      <th>30895</th>\n",
       "      <td>2016-11-08 12:43:14</td>\n",
       "      <td>TODAY WE MAKE AMERICA GREAT AGAIN!</td>\n",
       "      <td>295817</td>\n",
       "      <td>518347</td>\n",
       "      <td>2016</td>\n",
       "      <td>11</td>\n",
       "    </tr>\n",
       "    <tr>\n",
       "      <th>15535</th>\n",
       "      <td>2014-06-04 12:23:11</td>\n",
       "      <td>Are you allowed to impeach a president for gro...</td>\n",
       "      <td>246232</td>\n",
       "      <td>237843</td>\n",
       "      <td>2014</td>\n",
       "      <td>06</td>\n",
       "    </tr>\n",
       "    <tr>\n",
       "      <th>38625</th>\n",
       "      <td>2019-08-02 19:41:30</td>\n",
       "      <td>A$AP Rocky released from prison and on his way...</td>\n",
       "      <td>240363</td>\n",
       "      <td>857678</td>\n",
       "      <td>2019</td>\n",
       "      <td>08</td>\n",
       "    </tr>\n",
       "    <tr>\n",
       "      <th>33061</th>\n",
       "      <td>2017-11-12 01:48:01</td>\n",
       "      <td>Why would Kim Jong-un insult me by calling me ...</td>\n",
       "      <td>229531</td>\n",
       "      <td>559317</td>\n",
       "      <td>2017</td>\n",
       "      <td>11</td>\n",
       "    </tr>\n",
       "    <tr>\n",
       "      <th>...</th>\n",
       "      <td>...</td>\n",
       "      <td>...</td>\n",
       "      <td>...</td>\n",
       "      <td>...</td>\n",
       "      <td>...</td>\n",
       "      <td>...</td>\n",
       "    </tr>\n",
       "    <tr>\n",
       "      <th>10747</th>\n",
       "      <td>2013-08-01 12:36:26</td>\n",
       "      <td>@ ccalder0811 Thank you.</td>\n",
       "      <td>0</td>\n",
       "      <td>0</td>\n",
       "      <td>2013</td>\n",
       "      <td>08</td>\n",
       "    </tr>\n",
       "    <tr>\n",
       "      <th>8531</th>\n",
       "      <td>2013-04-24 10:49:24</td>\n",
       "      <td>@ RamboFo Great!</td>\n",
       "      <td>0</td>\n",
       "      <td>1</td>\n",
       "      <td>2013</td>\n",
       "      <td>04</td>\n",
       "    </tr>\n",
       "    <tr>\n",
       "      <th>6291</th>\n",
       "      <td>2013-02-07 21:29:42</td>\n",
       "      <td>@ bahia6085 Thanks Suz for your comments.</td>\n",
       "      <td>0</td>\n",
       "      <td>0</td>\n",
       "      <td>2013</td>\n",
       "      <td>02</td>\n",
       "    </tr>\n",
       "    <tr>\n",
       "      <th>10794</th>\n",
       "      <td>2013-08-02 15:24:36</td>\n",
       "      <td>@ not_that_actor I know!</td>\n",
       "      <td>0</td>\n",
       "      <td>0</td>\n",
       "      <td>2013</td>\n",
       "      <td>08</td>\n",
       "    </tr>\n",
       "    <tr>\n",
       "      <th>5891</th>\n",
       "      <td>2013-01-24 14:59:11</td>\n",
       "      <td>@ BillKingLanark @ dkberman @ mathewi That's t...</td>\n",
       "      <td>0</td>\n",
       "      <td>0</td>\n",
       "      <td>2013</td>\n",
       "      <td>01</td>\n",
       "    </tr>\n",
       "  </tbody>\n",
       "</table>\n",
       "<p>41122 rows × 6 columns</p>\n",
       "</div>"
      ],
      "text/plain": [
       "                      date                                            content  \\\n",
       "32059  2017-07-02 15:21:42     # FraudNewsCNN # FNNpic.twitter.com/WYUnHjjUjg   \n",
       "30895  2016-11-08 12:43:14                 TODAY WE MAKE AMERICA GREAT AGAIN!   \n",
       "15535  2014-06-04 12:23:11  Are you allowed to impeach a president for gro...   \n",
       "38625  2019-08-02 19:41:30  A$AP Rocky released from prison and on his way...   \n",
       "33061  2017-11-12 01:48:01  Why would Kim Jong-un insult me by calling me ...   \n",
       "...                    ...                                                ...   \n",
       "10747  2013-08-01 12:36:26                           @ ccalder0811 Thank you.   \n",
       "8531   2013-04-24 10:49:24                                   @ RamboFo Great!   \n",
       "6291   2013-02-07 21:29:42          @ bahia6085 Thanks Suz for your comments.   \n",
       "10794  2013-08-02 15:24:36                           @ not_that_actor I know!   \n",
       "5891   2013-01-24 14:59:11  @ BillKingLanark @ dkberman @ mathewi That's t...   \n",
       "\n",
       "       retweets  favorites  year month  \n",
       "32059    309892     528265  2017    07  \n",
       "30895    295817     518347  2016    11  \n",
       "15535    246232     237843  2014    06  \n",
       "38625    240363     857678  2019    08  \n",
       "33061    229531     559317  2017    11  \n",
       "...         ...        ...   ...   ...  \n",
       "10747         0          0  2013    08  \n",
       "8531          0          1  2013    04  \n",
       "6291          0          0  2013    02  \n",
       "10794         0          0  2013    08  \n",
       "5891          0          0  2013    01  \n",
       "\n",
       "[41122 rows x 6 columns]"
      ]
     },
     "execution_count": 54,
     "metadata": {},
     "output_type": "execute_result"
    }
   ],
   "source": [
    "# sort_value 함수를 사용하여 retweets 변수의 데이터 크기 순으로 정렬합니다. 이때, 내림차순으로 정렬합니다. (ascending=False)\n",
    "df_cleaned.sort_values(by='retweets', ascending=False)"
   ]
  },
  {
   "cell_type": "code",
   "execution_count": 55,
   "id": "58c89aee-da55-47b0-87b5-34d6a6778816",
   "metadata": {},
   "outputs": [
    {
     "data": {
      "text/html": [
       "<div>\n",
       "<style scoped>\n",
       "    .dataframe tbody tr th:only-of-type {\n",
       "        vertical-align: middle;\n",
       "    }\n",
       "\n",
       "    .dataframe tbody tr th {\n",
       "        vertical-align: top;\n",
       "    }\n",
       "\n",
       "    .dataframe thead th {\n",
       "        text-align: right;\n",
       "    }\n",
       "</style>\n",
       "<table border=\"1\" class=\"dataframe\">\n",
       "  <thead>\n",
       "    <tr style=\"text-align: right;\">\n",
       "      <th></th>\n",
       "      <th>date</th>\n",
       "      <th>content</th>\n",
       "      <th>retweets</th>\n",
       "      <th>favorites</th>\n",
       "      <th>year</th>\n",
       "      <th>month</th>\n",
       "    </tr>\n",
       "  </thead>\n",
       "  <tbody>\n",
       "    <tr>\n",
       "      <th>32059</th>\n",
       "      <td>2017-07-02 15:21:42</td>\n",
       "      <td># FraudNewsCNN # FNNpic.twitter.com/WYUnHjjUjg</td>\n",
       "      <td>309892</td>\n",
       "      <td>528265</td>\n",
       "      <td>2017</td>\n",
       "      <td>07</td>\n",
       "    </tr>\n",
       "    <tr>\n",
       "      <th>30895</th>\n",
       "      <td>2016-11-08 12:43:14</td>\n",
       "      <td>TODAY WE MAKE AMERICA GREAT AGAIN!</td>\n",
       "      <td>295817</td>\n",
       "      <td>518347</td>\n",
       "      <td>2016</td>\n",
       "      <td>11</td>\n",
       "    </tr>\n",
       "    <tr>\n",
       "      <th>15535</th>\n",
       "      <td>2014-06-04 12:23:11</td>\n",
       "      <td>Are you allowed to impeach a president for gro...</td>\n",
       "      <td>246232</td>\n",
       "      <td>237843</td>\n",
       "      <td>2014</td>\n",
       "      <td>06</td>\n",
       "    </tr>\n",
       "    <tr>\n",
       "      <th>38625</th>\n",
       "      <td>2019-08-02 19:41:30</td>\n",
       "      <td>A$AP Rocky released from prison and on his way...</td>\n",
       "      <td>240363</td>\n",
       "      <td>857678</td>\n",
       "      <td>2019</td>\n",
       "      <td>08</td>\n",
       "    </tr>\n",
       "    <tr>\n",
       "      <th>33061</th>\n",
       "      <td>2017-11-12 01:48:01</td>\n",
       "      <td>Why would Kim Jong-un insult me by calling me ...</td>\n",
       "      <td>229531</td>\n",
       "      <td>559317</td>\n",
       "      <td>2017</td>\n",
       "      <td>11</td>\n",
       "    </tr>\n",
       "  </tbody>\n",
       "</table>\n",
       "</div>"
      ],
      "text/plain": [
       "                      date                                            content  \\\n",
       "32059  2017-07-02 15:21:42     # FraudNewsCNN # FNNpic.twitter.com/WYUnHjjUjg   \n",
       "30895  2016-11-08 12:43:14                 TODAY WE MAKE AMERICA GREAT AGAIN!   \n",
       "15535  2014-06-04 12:23:11  Are you allowed to impeach a president for gro...   \n",
       "38625  2019-08-02 19:41:30  A$AP Rocky released from prison and on his way...   \n",
       "33061  2017-11-12 01:48:01  Why would Kim Jong-un insult me by calling me ...   \n",
       "\n",
       "       retweets  favorites  year month  \n",
       "32059    309892     528265  2017    07  \n",
       "30895    295817     518347  2016    11  \n",
       "15535    246232     237843  2014    06  \n",
       "38625    240363     857678  2019    08  \n",
       "33061    229531     559317  2017    11  "
      ]
     },
     "execution_count": 55,
     "metadata": {},
     "output_type": "execute_result"
    }
   ],
   "source": [
    "# 정렬 순으로 상위 5행의 데이터를 추출합니다.\n",
    "top5_retweets = df_cleaned.sort_values(by='retweets', ascending=False).iloc[:5]\n",
    "top5_retweets"
   ]
  },
  {
   "cell_type": "markdown",
   "id": "776b206a-9a02-4106-bc4c-85f7c49c739e",
   "metadata": {},
   "source": [
    "### 2) 좋아요(favorites) 갯수가 많은 순서대로 상위 1%안에 해당하는 트윗을 모두 추출합니다."
   ]
  },
  {
   "cell_type": "code",
   "execution_count": 56,
   "id": "11ded9ef-313e-4bf9-928b-48311f3f9d51",
   "metadata": {},
   "outputs": [
    {
     "data": {
      "text/html": [
       "<div>\n",
       "<style scoped>\n",
       "    .dataframe tbody tr th:only-of-type {\n",
       "        vertical-align: middle;\n",
       "    }\n",
       "\n",
       "    .dataframe tbody tr th {\n",
       "        vertical-align: top;\n",
       "    }\n",
       "\n",
       "    .dataframe thead th {\n",
       "        text-align: right;\n",
       "    }\n",
       "</style>\n",
       "<table border=\"1\" class=\"dataframe\">\n",
       "  <thead>\n",
       "    <tr style=\"text-align: right;\">\n",
       "      <th></th>\n",
       "      <th>date</th>\n",
       "      <th>content</th>\n",
       "      <th>retweets</th>\n",
       "      <th>favorites</th>\n",
       "      <th>year</th>\n",
       "      <th>month</th>\n",
       "    </tr>\n",
       "  </thead>\n",
       "  <tbody>\n",
       "    <tr>\n",
       "      <th>38625</th>\n",
       "      <td>2019-08-02 19:41:30</td>\n",
       "      <td>A$AP Rocky released from prison and on his way...</td>\n",
       "      <td>240363</td>\n",
       "      <td>857678</td>\n",
       "      <td>2019</td>\n",
       "      <td>08</td>\n",
       "    </tr>\n",
       "    <tr>\n",
       "      <th>40959</th>\n",
       "      <td>2020-01-03 03:32:53</td>\n",
       "      <td>pic.twitter.com/VXeKiVzpTf</td>\n",
       "      <td>171742</td>\n",
       "      <td>812508</td>\n",
       "      <td>2020</td>\n",
       "      <td>01</td>\n",
       "    </tr>\n",
       "    <tr>\n",
       "      <th>40990</th>\n",
       "      <td>2020-01-08 03:45:24</td>\n",
       "      <td>All is well! Missiles launched from Iran at tw...</td>\n",
       "      <td>158748</td>\n",
       "      <td>766263</td>\n",
       "      <td>2020</td>\n",
       "      <td>01</td>\n",
       "    </tr>\n",
       "    <tr>\n",
       "      <th>40868</th>\n",
       "      <td>2019-12-25 13:26:31</td>\n",
       "      <td>MERRY CHRISTMAS!</td>\n",
       "      <td>114052</td>\n",
       "      <td>738868</td>\n",
       "      <td>2019</td>\n",
       "      <td>12</td>\n",
       "    </tr>\n",
       "    <tr>\n",
       "      <th>38394</th>\n",
       "      <td>2019-07-19 22:01:47</td>\n",
       "      <td>Just spoke to @ KanyeWest about his friend A$A...</td>\n",
       "      <td>195109</td>\n",
       "      <td>717895</td>\n",
       "      <td>2019</td>\n",
       "      <td>07</td>\n",
       "    </tr>\n",
       "    <tr>\n",
       "      <th>...</th>\n",
       "      <td>...</td>\n",
       "      <td>...</td>\n",
       "      <td>...</td>\n",
       "      <td>...</td>\n",
       "      <td>...</td>\n",
       "      <td>...</td>\n",
       "    </tr>\n",
       "    <tr>\n",
       "      <th>5591</th>\n",
       "      <td>2013-01-11 21:31:49</td>\n",
       "      <td>@ NormaWilcox Thank you.</td>\n",
       "      <td>0</td>\n",
       "      <td>0</td>\n",
       "      <td>2013</td>\n",
       "      <td>01</td>\n",
       "    </tr>\n",
       "    <tr>\n",
       "      <th>6180</th>\n",
       "      <td>2013-02-05 22:42:19</td>\n",
       "      <td>@ festenoc True and thanks.</td>\n",
       "      <td>2</td>\n",
       "      <td>0</td>\n",
       "      <td>2013</td>\n",
       "      <td>02</td>\n",
       "    </tr>\n",
       "    <tr>\n",
       "      <th>3552</th>\n",
       "      <td>2012-10-03 21:25:31</td>\n",
       "      <td>@ SiphoSimelane Thank you.</td>\n",
       "      <td>3</td>\n",
       "      <td>0</td>\n",
       "      <td>2012</td>\n",
       "      <td>10</td>\n",
       "    </tr>\n",
       "    <tr>\n",
       "      <th>9960</th>\n",
       "      <td>2013-06-27 18:14:20</td>\n",
       "      <td>@ MIbrunette Our country needs the same fix-up.</td>\n",
       "      <td>2</td>\n",
       "      <td>0</td>\n",
       "      <td>2013</td>\n",
       "      <td>06</td>\n",
       "    </tr>\n",
       "    <tr>\n",
       "      <th>10858</th>\n",
       "      <td>2013-08-06 17:31:49</td>\n",
       "      <td>@ DanielHR27 Thanks!</td>\n",
       "      <td>1</td>\n",
       "      <td>0</td>\n",
       "      <td>2013</td>\n",
       "      <td>08</td>\n",
       "    </tr>\n",
       "  </tbody>\n",
       "</table>\n",
       "<p>41122 rows × 6 columns</p>\n",
       "</div>"
      ],
      "text/plain": [
       "                      date                                            content  \\\n",
       "38625  2019-08-02 19:41:30  A$AP Rocky released from prison and on his way...   \n",
       "40959  2020-01-03 03:32:53                         pic.twitter.com/VXeKiVzpTf   \n",
       "40990  2020-01-08 03:45:24  All is well! Missiles launched from Iran at tw...   \n",
       "40868  2019-12-25 13:26:31                                   MERRY CHRISTMAS!   \n",
       "38394  2019-07-19 22:01:47  Just spoke to @ KanyeWest about his friend A$A...   \n",
       "...                    ...                                                ...   \n",
       "5591   2013-01-11 21:31:49                           @ NormaWilcox Thank you.   \n",
       "6180   2013-02-05 22:42:19                        @ festenoc True and thanks.   \n",
       "3552   2012-10-03 21:25:31                         @ SiphoSimelane Thank you.   \n",
       "9960   2013-06-27 18:14:20    @ MIbrunette Our country needs the same fix-up.   \n",
       "10858  2013-08-06 17:31:49                               @ DanielHR27 Thanks!   \n",
       "\n",
       "       retweets  favorites  year month  \n",
       "38625    240363     857678  2019    08  \n",
       "40959    171742     812508  2020    01  \n",
       "40990    158748     766263  2020    01  \n",
       "40868    114052     738868  2019    12  \n",
       "38394    195109     717895  2019    07  \n",
       "...         ...        ...   ...   ...  \n",
       "5591          0          0  2013    01  \n",
       "6180          2          0  2013    02  \n",
       "3552          3          0  2012    10  \n",
       "9960          2          0  2013    06  \n",
       "10858         1          0  2013    08  \n",
       "\n",
       "[41122 rows x 6 columns]"
      ]
     },
     "execution_count": 56,
     "metadata": {},
     "output_type": "execute_result"
    }
   ],
   "source": [
    "# sort_value 함수를 사용하여 favorites 변수의 데이터 크기 순으로 정렬합니다. 이때, 내림차순으로 정렬합니다. (ascending=False)\n",
    "top_1_percent_favorites = df_cleaned.sort_values(by='favorites', ascending=False)\n",
    "top_1_percent_favorites"
   ]
  },
  {
   "cell_type": "code",
   "execution_count": 57,
   "id": "cc69f137-dd46-4f57-89ea-0173330a7e07",
   "metadata": {},
   "outputs": [
    {
     "data": {
      "text/plain": [
       "411"
      ]
     },
     "execution_count": 57,
     "metadata": {},
     "output_type": "execute_result"
    }
   ],
   "source": [
    "# 상위 1%에 해당하는 인덱스 값을 계산합니다. \n",
    "top_1_percent_index = int(len(top_1_percent_favorites) * 0.01)\n",
    "top_1_percent_index"
   ]
  },
  {
   "cell_type": "code",
   "execution_count": 58,
   "id": "686817c9-405a-4e0f-8d0a-fb341ab86479",
   "metadata": {},
   "outputs": [
    {
     "data": {
      "text/html": [
       "<div>\n",
       "<style scoped>\n",
       "    .dataframe tbody tr th:only-of-type {\n",
       "        vertical-align: middle;\n",
       "    }\n",
       "\n",
       "    .dataframe tbody tr th {\n",
       "        vertical-align: top;\n",
       "    }\n",
       "\n",
       "    .dataframe thead th {\n",
       "        text-align: right;\n",
       "    }\n",
       "</style>\n",
       "<table border=\"1\" class=\"dataframe\">\n",
       "  <thead>\n",
       "    <tr style=\"text-align: right;\">\n",
       "      <th></th>\n",
       "      <th>date</th>\n",
       "      <th>content</th>\n",
       "      <th>retweets</th>\n",
       "      <th>favorites</th>\n",
       "      <th>year</th>\n",
       "      <th>month</th>\n",
       "    </tr>\n",
       "  </thead>\n",
       "  <tbody>\n",
       "    <tr>\n",
       "      <th>38625</th>\n",
       "      <td>2019-08-02 19:41:30</td>\n",
       "      <td>A$AP Rocky released from prison and on his way...</td>\n",
       "      <td>240363</td>\n",
       "      <td>857678</td>\n",
       "      <td>2019</td>\n",
       "      <td>08</td>\n",
       "    </tr>\n",
       "    <tr>\n",
       "      <th>40959</th>\n",
       "      <td>2020-01-03 03:32:53</td>\n",
       "      <td>pic.twitter.com/VXeKiVzpTf</td>\n",
       "      <td>171742</td>\n",
       "      <td>812508</td>\n",
       "      <td>2020</td>\n",
       "      <td>01</td>\n",
       "    </tr>\n",
       "    <tr>\n",
       "      <th>40990</th>\n",
       "      <td>2020-01-08 03:45:24</td>\n",
       "      <td>All is well! Missiles launched from Iran at tw...</td>\n",
       "      <td>158748</td>\n",
       "      <td>766263</td>\n",
       "      <td>2020</td>\n",
       "      <td>01</td>\n",
       "    </tr>\n",
       "    <tr>\n",
       "      <th>40868</th>\n",
       "      <td>2019-12-25 13:26:31</td>\n",
       "      <td>MERRY CHRISTMAS!</td>\n",
       "      <td>114052</td>\n",
       "      <td>738868</td>\n",
       "      <td>2019</td>\n",
       "      <td>12</td>\n",
       "    </tr>\n",
       "    <tr>\n",
       "      <th>38394</th>\n",
       "      <td>2019-07-19 22:01:47</td>\n",
       "      <td>Just spoke to @ KanyeWest about his friend A$A...</td>\n",
       "      <td>195109</td>\n",
       "      <td>717895</td>\n",
       "      <td>2019</td>\n",
       "      <td>07</td>\n",
       "    </tr>\n",
       "    <tr>\n",
       "      <th>...</th>\n",
       "      <td>...</td>\n",
       "      <td>...</td>\n",
       "      <td>...</td>\n",
       "      <td>...</td>\n",
       "      <td>...</td>\n",
       "      <td>...</td>\n",
       "    </tr>\n",
       "    <tr>\n",
       "      <th>40844</th>\n",
       "      <td>2019-12-21 22:07:01</td>\n",
       "      <td>pic.twitter.com/h5bAKuoyV2</td>\n",
       "      <td>44150</td>\n",
       "      <td>159556</td>\n",
       "      <td>2019</td>\n",
       "      <td>12</td>\n",
       "    </tr>\n",
       "    <tr>\n",
       "      <th>38397</th>\n",
       "      <td>2019-07-20 15:52:30</td>\n",
       "      <td>Just had a very good call with @ SwedishPM Ste...</td>\n",
       "      <td>29517</td>\n",
       "      <td>159502</td>\n",
       "      <td>2019</td>\n",
       "      <td>07</td>\n",
       "    </tr>\n",
       "    <tr>\n",
       "      <th>32623</th>\n",
       "      <td>2017-09-24 12:44:52</td>\n",
       "      <td>If NFL fans refuse to go to games until player...</td>\n",
       "      <td>37803</td>\n",
       "      <td>159480</td>\n",
       "      <td>2017</td>\n",
       "      <td>09</td>\n",
       "    </tr>\n",
       "    <tr>\n",
       "      <th>36316</th>\n",
       "      <td>2018-12-27 12:59:04</td>\n",
       "      <td>Just returned from visiting our troops in Iraq...</td>\n",
       "      <td>26243</td>\n",
       "      <td>159097</td>\n",
       "      <td>2018</td>\n",
       "      <td>12</td>\n",
       "    </tr>\n",
       "    <tr>\n",
       "      <th>37036</th>\n",
       "      <td>2019-03-22 11:52:12</td>\n",
       "      <td>3.1 GDP FOR THE YEAR, BEST NUMBER IN 14 YEARS!</td>\n",
       "      <td>31966</td>\n",
       "      <td>159094</td>\n",
       "      <td>2019</td>\n",
       "      <td>03</td>\n",
       "    </tr>\n",
       "  </tbody>\n",
       "</table>\n",
       "<p>411 rows × 6 columns</p>\n",
       "</div>"
      ],
      "text/plain": [
       "                      date                                            content  \\\n",
       "38625  2019-08-02 19:41:30  A$AP Rocky released from prison and on his way...   \n",
       "40959  2020-01-03 03:32:53                         pic.twitter.com/VXeKiVzpTf   \n",
       "40990  2020-01-08 03:45:24  All is well! Missiles launched from Iran at tw...   \n",
       "40868  2019-12-25 13:26:31                                   MERRY CHRISTMAS!   \n",
       "38394  2019-07-19 22:01:47  Just spoke to @ KanyeWest about his friend A$A...   \n",
       "...                    ...                                                ...   \n",
       "40844  2019-12-21 22:07:01                         pic.twitter.com/h5bAKuoyV2   \n",
       "38397  2019-07-20 15:52:30  Just had a very good call with @ SwedishPM Ste...   \n",
       "32623  2017-09-24 12:44:52  If NFL fans refuse to go to games until player...   \n",
       "36316  2018-12-27 12:59:04  Just returned from visiting our troops in Iraq...   \n",
       "37036  2019-03-22 11:52:12     3.1 GDP FOR THE YEAR, BEST NUMBER IN 14 YEARS!   \n",
       "\n",
       "       retweets  favorites  year month  \n",
       "38625    240363     857678  2019    08  \n",
       "40959    171742     812508  2020    01  \n",
       "40990    158748     766263  2020    01  \n",
       "40868    114052     738868  2019    12  \n",
       "38394    195109     717895  2019    07  \n",
       "...         ...        ...   ...   ...  \n",
       "40844     44150     159556  2019    12  \n",
       "38397     29517     159502  2019    07  \n",
       "32623     37803     159480  2017    09  \n",
       "36316     26243     159097  2018    12  \n",
       "37036     31966     159094  2019    03  \n",
       "\n",
       "[411 rows x 6 columns]"
      ]
     },
     "execution_count": 58,
     "metadata": {},
     "output_type": "execute_result"
    }
   ],
   "source": [
    "# 상위 1% 경계에 해당하는 인덱스까지 슬라이싱으로 추출합니다. (iloc)\n",
    "top_1_percent_favorites = top_1_percent_favorites.iloc[:top_1_percent_index]\n",
    "top_1_percent_favorites"
   ]
  },
  {
   "cell_type": "markdown",
   "id": "401d8c47-9796-4a2c-819a-7a3bb2b7e0ba",
   "metadata": {},
   "source": [
    "## 2.4 Word Cloud 시각화\n",
    "1) 좋아요(favorites) 갯수가 많은 순서대로 상위 1%안에 해당하는 트윗을 대상으로 시각화합니다. \n",
    "2) 트윗에는 물음표(?), 느낌표(!) 등 특수문자들이 포함되어 있습니다. 먼저, 각 트윗에 포함되어 있는 특수문자를 제거합니다. \n",
    "3) 특수문자가 제거된 트윗들을 하나의 문자열로 결합합니다. \n",
    "4) WordCloud 시각화를 처리하고 화면에 출력합니다. "
   ]
  },
  {
   "cell_type": "markdown",
   "id": "9bdde94b-5a54-4f8e-96fa-6674a28c8b9c",
   "metadata": {},
   "source": [
    "### 1) 좋아요(favorites) 갯수가 많은 순서대로 상위 1%안에 해당하는 트윗을 대상으로 시각화합니다. "
   ]
  },
  {
   "cell_type": "code",
   "execution_count": 59,
   "id": "a12c6ad4-785b-4c91-9374-5dc58128dc7e",
   "metadata": {},
   "outputs": [
    {
     "name": "stdout",
     "output_type": "stream",
     "text": [
      "트윗 갯수: 411\n"
     ]
    }
   ],
   "source": [
    "# top_1_percent_favorites 데이터프레임에서 content 변수를 선택합니다. \n",
    "tweets = top_1_percent_favorites['content'].to_list()\n",
    "print(f\"트윗 갯수: {len(tweets)}\")"
   ]
  },
  {
   "cell_type": "code",
   "execution_count": 60,
   "id": "cd14c7b3-e0f8-4cbb-8ebf-927d7eaac19d",
   "metadata": {},
   "outputs": [
    {
     "name": "stdout",
     "output_type": "stream",
     "text": [
      "A$AP Rocky released from prison and on his way home to the United States from Sweden. It was a Rocky Week, get home ASAP A$AP!\n"
     ]
    }
   ],
   "source": [
    "# 첫 번째 트윗을 화면에 출력해봅니다.\n",
    "print(tweets[0])"
   ]
  },
  {
   "cell_type": "markdown",
   "id": "ad3189cb-4191-4acf-b4f0-42c53a44b4e7",
   "metadata": {},
   "source": [
    "### 2) 트윗에는 물음표(?), 느낌표(!) 등 특수문자들이 포함되어 있습니다. 먼저, 각 트윗에 포함되어 있는 특수문자를 제거합니다. "
   ]
  },
  {
   "cell_type": "code",
   "execution_count": 61,
   "id": "c6c1e7b7-9527-4ac4-abdf-fd5bcbde1c1d",
   "metadata": {},
   "outputs": [
    {
     "name": "stdout",
     "output_type": "stream",
     "text": [
      "특수문자: !\"#$%&'()*+,-./:;<=>?@[\\]^_`{|}~\n",
      "특수문자 제거 후: AAP Rocky released from prison and on his way home to the United States from Sweden It was a Rocky Week get home ASAP AAP\n"
     ]
    }
   ],
   "source": [
    "# string 라이브러리에서 특수문자(punctuation)를 가져옵니다.  \n",
    "from string import punctuation\n",
    "print(f\"특수문자: {punctuation}\")\n",
    "\n",
    "# punctuation에 들어있는 각각의 특수문자를 찾아서 제거합니다. \n",
    "sample_text = tweets[0]\n",
    "\n",
    "for char in punctuation:\n",
    "    sample_text = sample_text.replace(char, '')\n",
    "    \n",
    "print(f\"특수문자 제거 후: {sample_text}\")"
   ]
  },
  {
   "cell_type": "code",
   "execution_count": 62,
   "id": "e753efc1-8579-4a6e-944b-d79bc5ac9aa0",
   "metadata": {},
   "outputs": [
    {
     "name": "stdout",
     "output_type": "stream",
     "text": [
      "인덱스가 10인 트윗(처리 전): Why would Kim Jong-un insult me by calling me \"old,\" when I would NEVER call him \"short and fat?\" Oh well, I try so hard to be his friend - and maybe someday that will happen!\n",
      "인덱스가 10인 트윗(처리 후): Why would Kim Jongun insult me by calling me old when I would NEVER call him short and fat Oh well I try so hard to be his friend  and maybe someday that will happen\n"
     ]
    }
   ],
   "source": [
    "# tweets 변수에 저장되어 있는 모든 트윗에 대해서도 특수문자를 찾아서 제거합니다. \n",
    "print(f\"인덱스가 10인 트윗(처리 전): {tweets[10]}\")\n",
    "\n",
    "for i in range(len(tweets)):\n",
    "    \n",
    "    # punctuation에 들어있는 특수문자를 제거\n",
    "    for char in punctuation:\n",
    "        tweets[i] = tweets[i].replace(char, '')    \n",
    "        \n",
    "print(f\"인덱스가 10인 트윗(처리 후): {tweets[10]}\")"
   ]
  },
  {
   "cell_type": "markdown",
   "id": "6eb9dafe-2af7-4d38-9646-091e524e3348",
   "metadata": {},
   "source": [
    "### 3) 특수문자가 제거된 트윗들을 하나의 문자열로 결합합니다. "
   ]
  },
  {
   "cell_type": "code",
   "execution_count": 63,
   "id": "d2b41291-d8d2-48e2-a0ab-6996ba498319",
   "metadata": {},
   "outputs": [
    {
     "name": "stdout",
     "output_type": "stream",
     "text": [
      "문자열의 길이: 60923\n",
      "문자열의 일부를 출력: AAP Rocky released from prison and on his way home to the United States from Sweden It was a Rocky W\n"
     ]
    }
   ],
   "source": [
    "# 앞에서 정제한 모든 트윗 텍스트를 하나의 문자열로 결합합니다. \n",
    "cleaned_text = ' '.join(tweets)\n",
    "print(\"문자열의 길이:\" , len(cleaned_text))\n",
    "print(\"문자열의 일부를 출력:\" , cleaned_text[:100])"
   ]
  },
  {
   "cell_type": "markdown",
   "id": "7663b376-4474-457f-93f5-251e904d9c35",
   "metadata": {},
   "source": [
    "### 4) WordCloud 시각화를 처리하고 화면에 출력합니다. "
   ]
  },
  {
   "cell_type": "code",
   "execution_count": 64,
   "id": "db7b52b1-9f6c-4e78-abae-1bd8f9b4226d",
   "metadata": {},
   "outputs": [
    {
     "data": {
      "image/png": "[encoded data removed]",
      "text/plain": [
       "<Figure size 800x400 with 1 Axes>"
      ]
     },
     "metadata": {},
     "output_type": "display_data"
    }
   ],
   "source": [
    "# WordCloud 생성\n",
    "from wordcloud import WordCloud, STOPWORDS \n",
    "wordcloud = WordCloud(width = 800, height = 400, \n",
    "                      background_color ='white', \n",
    "                      stopwords = set(STOPWORDS), \n",
    "                      max_words=100,\n",
    "                      min_font_size = 10,\n",
    "                      max_font_size = 100,\n",
    "                     ).generate(cleaned_text) \n",
    "  \n",
    "# WordCloud 출력                    \n",
    "plt.figure(figsize = (8, 4), facecolor = None) \n",
    "plt.imshow(wordcloud) \n",
    "plt.axis(\"off\") \n",
    "plt.tight_layout() \n",
    "plt.show()"
   ]
  },
  {
   "cell_type": "markdown",
   "id": "463ca748-9c4d-49fb-9f3a-f473092e1a6c",
   "metadata": {},
   "source": [
    "# [추가 과제 예시] \n",
    "1) 월별 트윗량 변화에 대해서 분석\n",
    "2) seaborn 라이브러리의 시각화 함수를 활용하여 그래프 표현\n",
    "3) nltk 라이브러리를 활용한 텍스트 정제 "
   ]
  },
  {
   "cell_type": "code",
   "execution_count": 69,
   "id": "b4fedf73",
   "metadata": {},
   "outputs": [
    {
     "data": {
      "text/html": [
       "<div>\n",
       "<style scoped>\n",
       "    .dataframe tbody tr th:only-of-type {\n",
       "        vertical-align: middle;\n",
       "    }\n",
       "\n",
       "    .dataframe tbody tr th {\n",
       "        vertical-align: top;\n",
       "    }\n",
       "\n",
       "    .dataframe thead th {\n",
       "        text-align: right;\n",
       "    }\n",
       "</style>\n",
       "<table border=\"1\" class=\"dataframe\">\n",
       "  <thead>\n",
       "    <tr style=\"text-align: right;\">\n",
       "      <th></th>\n",
       "      <th>date</th>\n",
       "      <th>content</th>\n",
       "      <th>retweets</th>\n",
       "      <th>favorites</th>\n",
       "      <th>year</th>\n",
       "      <th>month</th>\n",
       "    </tr>\n",
       "  </thead>\n",
       "  <tbody>\n",
       "    <tr>\n",
       "      <th>0</th>\n",
       "      <td>2009-05-04 20:54:25</td>\n",
       "      <td>Be sure to tune in and watch Donald Trump on L...</td>\n",
       "      <td>500</td>\n",
       "      <td>868</td>\n",
       "      <td>2009</td>\n",
       "      <td>05</td>\n",
       "    </tr>\n",
       "    <tr>\n",
       "      <th>1</th>\n",
       "      <td>2009-05-05 03:00:10</td>\n",
       "      <td>Donald Trump will be appearing on The View tom...</td>\n",
       "      <td>33</td>\n",
       "      <td>273</td>\n",
       "      <td>2009</td>\n",
       "      <td>05</td>\n",
       "    </tr>\n",
       "    <tr>\n",
       "      <th>2</th>\n",
       "      <td>2009-05-08 15:38:08</td>\n",
       "      <td>Donald Trump reads Top Ten Financial Tips on L...</td>\n",
       "      <td>12</td>\n",
       "      <td>18</td>\n",
       "      <td>2009</td>\n",
       "      <td>05</td>\n",
       "    </tr>\n",
       "    <tr>\n",
       "      <th>3</th>\n",
       "      <td>2009-05-08 22:40:15</td>\n",
       "      <td>New Blog Post: Celebrity Apprentice Finale and...</td>\n",
       "      <td>11</td>\n",
       "      <td>24</td>\n",
       "      <td>2009</td>\n",
       "      <td>05</td>\n",
       "    </tr>\n",
       "    <tr>\n",
       "      <th>4</th>\n",
       "      <td>2009-05-12 16:07:28</td>\n",
       "      <td>\"My persona will never be that of a wallflower...</td>\n",
       "      <td>1399</td>\n",
       "      <td>1965</td>\n",
       "      <td>2009</td>\n",
       "      <td>05</td>\n",
       "    </tr>\n",
       "    <tr>\n",
       "      <th>...</th>\n",
       "      <td>...</td>\n",
       "      <td>...</td>\n",
       "      <td>...</td>\n",
       "      <td>...</td>\n",
       "      <td>...</td>\n",
       "      <td>...</td>\n",
       "    </tr>\n",
       "    <tr>\n",
       "      <th>41117</th>\n",
       "      <td>2020-01-19 19:24:52</td>\n",
       "      <td>I have never seen the Republican Party as Stro...</td>\n",
       "      <td>32620</td>\n",
       "      <td>213817</td>\n",
       "      <td>2020</td>\n",
       "      <td>01</td>\n",
       "    </tr>\n",
       "    <tr>\n",
       "      <th>41118</th>\n",
       "      <td>2020-01-19 22:12:20</td>\n",
       "      <td>Now Mini Mike Bloomberg is critical of Jack Wi...</td>\n",
       "      <td>36239</td>\n",
       "      <td>149571</td>\n",
       "      <td>2020</td>\n",
       "      <td>01</td>\n",
       "    </tr>\n",
       "    <tr>\n",
       "      <th>41119</th>\n",
       "      <td>2020-01-20 01:27:07</td>\n",
       "      <td>I was thrilled to be back in the Great State o...</td>\n",
       "      <td>16588</td>\n",
       "      <td>66944</td>\n",
       "      <td>2020</td>\n",
       "      <td>01</td>\n",
       "    </tr>\n",
       "    <tr>\n",
       "      <th>41120</th>\n",
       "      <td>2020-01-20 02:16:00</td>\n",
       "      <td>“In the House, the President got less due proc...</td>\n",
       "      <td>20599</td>\n",
       "      <td>81921</td>\n",
       "      <td>2020</td>\n",
       "      <td>01</td>\n",
       "    </tr>\n",
       "    <tr>\n",
       "      <th>41121</th>\n",
       "      <td>2020-01-20 02:57:49</td>\n",
       "      <td>A great show! Check it out tonight at 9pm. @ F...</td>\n",
       "      <td>7947</td>\n",
       "      <td>34902</td>\n",
       "      <td>2020</td>\n",
       "      <td>01</td>\n",
       "    </tr>\n",
       "  </tbody>\n",
       "</table>\n",
       "<p>41122 rows × 6 columns</p>\n",
       "</div>"
      ],
      "text/plain": [
       "                      date                                            content  \\\n",
       "0      2009-05-04 20:54:25  Be sure to tune in and watch Donald Trump on L...   \n",
       "1      2009-05-05 03:00:10  Donald Trump will be appearing on The View tom...   \n",
       "2      2009-05-08 15:38:08  Donald Trump reads Top Ten Financial Tips on L...   \n",
       "3      2009-05-08 22:40:15  New Blog Post: Celebrity Apprentice Finale and...   \n",
       "4      2009-05-12 16:07:28  \"My persona will never be that of a wallflower...   \n",
       "...                    ...                                                ...   \n",
       "41117  2020-01-19 19:24:52  I have never seen the Republican Party as Stro...   \n",
       "41118  2020-01-19 22:12:20  Now Mini Mike Bloomberg is critical of Jack Wi...   \n",
       "41119  2020-01-20 01:27:07  I was thrilled to be back in the Great State o...   \n",
       "41120  2020-01-20 02:16:00  “In the House, the President got less due proc...   \n",
       "41121  2020-01-20 02:57:49  A great show! Check it out tonight at 9pm. @ F...   \n",
       "\n",
       "       retweets  favorites  year month  \n",
       "0           500        868  2009    05  \n",
       "1            33        273  2009    05  \n",
       "2            12         18  2009    05  \n",
       "3            11         24  2009    05  \n",
       "4          1399       1965  2009    05  \n",
       "...         ...        ...   ...   ...  \n",
       "41117     32620     213817  2020    01  \n",
       "41118     36239     149571  2020    01  \n",
       "41119     16588      66944  2020    01  \n",
       "41120     20599      81921  2020    01  \n",
       "41121      7947      34902  2020    01  \n",
       "\n",
       "[41122 rows x 6 columns]"
      ]
     },
     "execution_count": 69,
     "metadata": {},
     "output_type": "execute_result"
    }
   ],
   "source": [
    "df_cleaned"
   ]
  },
  {
   "cell_type": "code",
   "execution_count": null,
   "id": "776c8f01",
   "metadata": {},
   "outputs": [],
   "source": []
  }
 ],
 "metadata": {
  "kernelspec": {
   "display_name": "python_388",
   "language": "python",
   "name": "python3"
  },
  "language_info": {
   "codemirror_mode": {
    "name": "ipython",
    "version": 3
   },
   "file_extension": ".py",
   "mimetype": "text/x-python",
   "name": "python",
   "nbconvert_exporter": "python",
   "pygments_lexer": "ipython3",
   "version": "3.10.9"
  },
  "vscode": {
   "interpreter": {
    "hash": "c2fc6ebcee91e230f73258a2e3f660b10a1fe9a714cf6cb09e9f48edf1ca5b47"
   }
  }
 },
 "nbformat": 4,
 "nbformat_minor": 5
}
